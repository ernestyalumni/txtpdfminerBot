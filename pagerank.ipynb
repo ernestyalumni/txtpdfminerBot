{
 "cells": [
  {
   "cell_type": "markdown",
   "metadata": {},
   "source": [
    "This is a sanity check/Python prototype for PageRank for dense matrices, that's implemented in CUDA C/C++ (i.e. compare what we compute here against simple examples with results from the CUDA C/C++ implementation, files `main_pagerank.cu`, `pagerank.cu` (the \"meat\" of the PageRank algorithm), `pagerank.h` (CUDA C/C++ header file)"
   ]
  },
  {
   "cell_type": "code",
   "execution_count": 1,
   "metadata": {
    "collapsed": true,
    "deletable": true,
    "editable": true
   },
   "outputs": [],
   "source": [
    "import sympy"
   ]
  },
  {
   "cell_type": "code",
   "execution_count": 2,
   "metadata": {
    "collapsed": true,
    "deletable": true,
    "editable": true
   },
   "outputs": [],
   "source": [
    "import numpy as np"
   ]
  },
  {
   "cell_type": "code",
   "execution_count": 3,
   "metadata": {
    "collapsed": true,
    "deletable": true,
    "editable": true
   },
   "outputs": [],
   "source": [
    "import scipy"
   ]
  },
  {
   "cell_type": "code",
   "execution_count": 4,
   "metadata": {
    "collapsed": true,
    "deletable": true,
    "editable": true
   },
   "outputs": [],
   "source": [
    "from scipy.sparse import csr_matrix"
   ]
  },
  {
   "cell_type": "code",
   "execution_count": 5,
   "metadata": {
    "collapsed": false,
    "deletable": true,
    "editable": true
   },
   "outputs": [],
   "source": [
    "intptr = np.array([0, 1, 2, 3, 4, 8, 9, 10, 12, 12])\n",
    "J = np.array([4, 6, 7, 1, 0, 1, 2, 3, 6, 1, 5, 8]) # col\n",
    "data = np.array([1.000000, 0.500000, 1.000000, 0.333333, 1.000000, 0.333333, 1.000000, 1.000000, 0.500000, 0.333333, 1.000000, 1.000000])"
   ]
  },
  {
   "cell_type": "code",
   "execution_count": 6,
   "metadata": {
    "collapsed": false,
    "deletable": true,
    "editable": true
   },
   "outputs": [],
   "source": [
    "mymtx=csr_matrix((data,J,intptr))"
   ]
  },
  {
   "cell_type": "code",
   "execution_count": 7,
   "metadata": {
    "collapsed": false,
    "deletable": true,
    "editable": true
   },
   "outputs": [
    {
     "data": {
      "text/plain": [
       "array([[ 0.      ,  0.      ,  0.      ,  0.      ,  1.      ,  0.      ,\n",
       "         0.      ,  0.      ,  0.      ],\n",
       "       [ 0.      ,  0.      ,  0.      ,  0.      ,  0.      ,  0.      ,\n",
       "         0.5     ,  0.      ,  0.      ],\n",
       "       [ 0.      ,  0.      ,  0.      ,  0.      ,  0.      ,  0.      ,\n",
       "         0.      ,  1.      ,  0.      ],\n",
       "       [ 0.      ,  0.333333,  0.      ,  0.      ,  0.      ,  0.      ,\n",
       "         0.      ,  0.      ,  0.      ],\n",
       "       [ 1.      ,  0.333333,  1.      ,  1.      ,  0.      ,  0.      ,\n",
       "         0.      ,  0.      ,  0.      ],\n",
       "       [ 0.      ,  0.      ,  0.      ,  0.      ,  0.      ,  0.      ,\n",
       "         0.5     ,  0.      ,  0.      ],\n",
       "       [ 0.      ,  0.333333,  0.      ,  0.      ,  0.      ,  0.      ,\n",
       "         0.      ,  0.      ,  0.      ],\n",
       "       [ 0.      ,  0.      ,  0.      ,  0.      ,  0.      ,  1.      ,\n",
       "         0.      ,  0.      ,  1.      ],\n",
       "       [ 0.      ,  0.      ,  0.      ,  0.      ,  0.      ,  0.      ,\n",
       "         0.      ,  0.      ,  0.      ]])"
      ]
     },
     "execution_count": 7,
     "metadata": {},
     "output_type": "execute_result"
    }
   ],
   "source": [
    "mymtx.toarray()"
   ]
  },
  {
   "cell_type": "code",
   "execution_count": 8,
   "metadata": {
    "collapsed": false,
    "deletable": true,
    "editable": true
   },
   "outputs": [
    {
     "data": {
      "text/plain": [
       "(9, 9)"
      ]
     },
     "execution_count": 8,
     "metadata": {},
     "output_type": "execute_result"
    }
   ],
   "source": [
    "mymtx.toarray().shape"
   ]
  },
  {
   "cell_type": "code",
   "execution_count": 9,
   "metadata": {
    "collapsed": false,
    "deletable": true,
    "editable": true
   },
   "outputs": [
    {
     "name": "stdout",
     "output_type": "stream",
     "text": [
      "[ 0.  0.  0.  0.  1.  0.  0.  0.  0.]\n",
      "[ 0.   0.   0.   0.   0.   0.   0.5  0.   0. ]\n",
      "[ 0.  0.  0.  0.  0.  0.  0.  1.  0.]\n",
      "[ 0.        0.333333  0.        0.        0.        0.        0.        0.\n",
      "  0.      ]\n",
      "[ 1.        0.333333  1.        1.        0.        0.        0.        0.\n",
      "  0.      ]\n",
      "[ 0.   0.   0.   0.   0.   0.   0.5  0.   0. ]\n",
      "[ 0.        0.333333  0.        0.        0.        0.        0.        0.\n",
      "  0.      ]\n",
      "[ 0.  0.  0.  0.  0.  1.  0.  0.  1.]\n",
      "[ 0.  0.  0.  0.  0.  0.  0.  0.  0.]\n"
     ]
    }
   ],
   "source": [
    "for row in mymtx.toarray():\n",
    "    print row"
   ]
  },
  {
   "cell_type": "code",
   "execution_count": 10,
   "metadata": {
    "collapsed": false
   },
   "outputs": [
    {
     "name": "stdout",
     "output_type": "stream",
     "text": [
      "1.0\n",
      "0.999999\n",
      "1.0\n",
      "1.0\n",
      "1.0\n",
      "1.0\n",
      "1.0\n",
      "1.0\n",
      "1.0\n"
     ]
    }
   ],
   "source": [
    "for column_index in range(9):\n",
    "    print sum( mymtx.toarray()[i][column_index] for i in range(9) )\n",
    "        "
   ]
  },
  {
   "cell_type": "code",
   "execution_count": 34,
   "metadata": {
    "collapsed": true,
    "deletable": true,
    "editable": true
   },
   "outputs": [],
   "source": [
    "N = 9\n",
    "# prepare x\n",
    "# initiate x vector with 1/N, y with 0 \n",
    "x = np.ones(N) / N\n",
    "E = np.ones(N) / N\n",
    "y = np.zeros(N)"
   ]
  },
  {
   "cell_type": "code",
   "execution_count": 29,
   "metadata": {
    "collapsed": false,
    "deletable": true,
    "editable": true
   },
   "outputs": [
    {
     "data": {
      "text/plain": [
       "array([[ 0.11111111],\n",
       "       [ 0.11111111],\n",
       "       [ 0.11111111],\n",
       "       [ 0.11111111],\n",
       "       [ 0.11111111],\n",
       "       [ 0.11111111],\n",
       "       [ 0.11111111],\n",
       "       [ 0.11111111],\n",
       "       [ 0.11111111]])"
      ]
     },
     "execution_count": 29,
     "metadata": {},
     "output_type": "execute_result"
    }
   ],
   "source": [
    "np.vstack(x)"
   ]
  },
  {
   "cell_type": "code",
   "execution_count": 22,
   "metadata": {
    "collapsed": false,
    "deletable": true,
    "editable": true
   },
   "outputs": [
    {
     "data": {
      "text/plain": [
       "array([ 0.,  0.,  0.,  0.,  0.,  0.,  0.,  0.,  0.])"
      ]
     },
     "execution_count": 22,
     "metadata": {},
     "output_type": "execute_result"
    }
   ],
   "source": [
    "y"
   ]
  },
  {
   "cell_type": "code",
   "execution_count": 30,
   "metadata": {
    "collapsed": false,
    "deletable": true,
    "editable": true
   },
   "outputs": [
    {
     "data": {
      "text/plain": [
       "array([[ 0.11111111],\n",
       "       [ 0.05555556],\n",
       "       [ 0.11111111],\n",
       "       [ 0.037037  ],\n",
       "       [ 0.37037033],\n",
       "       [ 0.05555556],\n",
       "       [ 0.037037  ],\n",
       "       [ 0.22222222],\n",
       "       [ 0.        ]])"
      ]
     },
     "execution_count": 30,
     "metadata": {},
     "output_type": "execute_result"
    }
   ],
   "source": [
    "np.matmul(mymtx.toarray(),np.vstack(x))"
   ]
  },
  {
   "cell_type": "code",
   "execution_count": 31,
   "metadata": {
    "collapsed": true,
    "deletable": true,
    "editable": true
   },
   "outputs": [],
   "source": [
    "alpha=0.85"
   ]
  },
  {
   "cell_type": "code",
   "execution_count": 35,
   "metadata": {
    "collapsed": false,
    "deletable": true,
    "editable": true
   },
   "outputs": [
    {
     "data": {
      "text/plain": [
       "array([[ 0.11111111],\n",
       "       [ 0.06388889],\n",
       "       [ 0.11111111],\n",
       "       [ 0.04814812],\n",
       "       [ 0.33148145],\n",
       "       [ 0.06388889],\n",
       "       [ 0.04814812],\n",
       "       [ 0.20555556],\n",
       "       [ 0.01666667]])"
      ]
     },
     "execution_count": 35,
     "metadata": {},
     "output_type": "execute_result"
    }
   ],
   "source": [
    "alpha*np.matmul(mymtx.toarray(),np.vstack(x)) + (1.-alpha)*np.vstack(E)"
   ]
  },
  {
   "cell_type": "code",
   "execution_count": 36,
   "metadata": {
    "collapsed": true,
    "deletable": true,
    "editable": true
   },
   "outputs": [],
   "source": [
    "newx = alpha*np.matmul(mymtx.toarray(),np.vstack(x)) + (1.-alpha)*np.vstack(E)"
   ]
  },
  {
   "cell_type": "code",
   "execution_count": 43,
   "metadata": {
    "collapsed": false,
    "deletable": true,
    "editable": true
   },
   "outputs": [
    {
     "data": {
      "text/plain": [
       "array([[ 0.        ],\n",
       "       [-0.04722222],\n",
       "       [ 0.        ],\n",
       "       [-0.06296299],\n",
       "       [ 0.22037034],\n",
       "       [-0.04722222],\n",
       "       [-0.06296299],\n",
       "       [ 0.09444444],\n",
       "       [-0.09444444]])"
      ]
     },
     "execution_count": 43,
     "metadata": {},
     "output_type": "execute_result"
    }
   ],
   "source": [
    "newx-np.vstack(x)"
   ]
  },
  {
   "cell_type": "code",
   "execution_count": 44,
   "metadata": {
    "collapsed": false,
    "deletable": true,
    "editable": true
   },
   "outputs": [
    {
     "data": {
      "text/plain": [
       "0.62962966111111107"
      ]
     },
     "execution_count": 44,
     "metadata": {},
     "output_type": "execute_result"
    }
   ],
   "source": [
    "np.sum( np.abs(newx-np.vstack(x)) )"
   ]
  },
  {
   "cell_type": "code",
   "execution_count": 45,
   "metadata": {
    "collapsed": false,
    "deletable": true,
    "editable": true
   },
   "outputs": [
    {
     "data": {
      "text/plain": [
       "0.99999990555555551"
      ]
     },
     "execution_count": 45,
     "metadata": {},
     "output_type": "execute_result"
    }
   ],
   "source": [
    "np.sum( newx)"
   ]
  },
  {
   "cell_type": "code",
   "execution_count": 50,
   "metadata": {
    "collapsed": true,
    "deletable": true,
    "editable": true
   },
   "outputs": [],
   "source": [
    "# defining a function,\n",
    "def pagerank(alpha,A,x,E):\n",
    "    newx = alpha*np.matmul(A,np.vstack(x)) + (1.-alpha)*np.vstack(E)\n",
    "    err = np.sum( np.abs(newx-np.vstack(x)) )\n",
    "    print \"Error : \", err\n",
    "    summation = np.sum( newx)\n",
    "    print \"Sum   : \", summation\n",
    "    print newx\n",
    "    return newx"
   ]
  },
  {
   "cell_type": "code",
   "execution_count": 48,
   "metadata": {
    "collapsed": false,
    "deletable": true,
    "editable": true
   },
   "outputs": [
    {
     "name": "stdout",
     "output_type": "stream",
     "text": [
      "Error :  0.535185171806\n",
      "Sum   :  0.999999865417\n"
     ]
    }
   ],
   "source": [
    "newx=pagerank(alpha,mymtx.toarray(),newx,E"
   ]
  },
  {
   "cell_type": "code",
   "execution_count": 49,
   "metadata": {
    "collapsed": false,
    "deletable": true,
    "editable": true
   },
   "outputs": [
    {
     "data": {
      "text/plain": [
       "array([[ 0.2984259 ],\n",
       "       [ 0.03712962],\n",
       "       [ 0.19138889],\n",
       "       [ 0.0347685 ],\n",
       "       [ 0.26458329],\n",
       "       [ 0.03712962],\n",
       "       [ 0.0347685 ],\n",
       "       [ 0.08513889],\n",
       "       [ 0.01666667]])"
      ]
     },
     "execution_count": 49,
     "metadata": {},
     "output_type": "execute_result"
    }
   ],
   "source": [
    "newx"
   ]
  },
  {
   "cell_type": "code",
   "execution_count": 51,
   "metadata": {
    "collapsed": false,
    "deletable": true,
    "editable": true
   },
   "outputs": [
    {
     "name": "stdout",
     "output_type": "stream",
     "text": [
      "Error :  0.416998452999\n",
      "Sum   :  0.999999854044\n",
      "[[ 0.24156246]\n",
      " [ 0.03144328]\n",
      " [ 0.08903472]\n",
      " [ 0.02718671]\n",
      " [ 0.47308251]\n",
      " [ 0.03144328]\n",
      " [ 0.02718671]\n",
      " [ 0.06239351]\n",
      " [ 0.01666667]]\n"
     ]
    }
   ],
   "source": [
    "newx=pagerank(alpha,mymtx.toarray(),newx,E)"
   ]
  },
  {
   "cell_type": "code",
   "execution_count": 52,
   "metadata": {
    "collapsed": false,
    "deletable": true,
    "editable": true
   },
   "outputs": [
    {
     "name": "stdout",
     "output_type": "stream",
     "text": [
      "Error :  0.354448680216\n",
      "Sum   :  0.999999849211\n",
      "[[ 0.4187868 ]\n",
      " [ 0.02822102]\n",
      " [ 0.06970115]\n",
      " [ 0.02557559]\n",
      " [ 0.3296919 ]\n",
      " [ 0.02822102]\n",
      " [ 0.02557559]\n",
      " [ 0.05756012]\n",
      " [ 0.01666667]]\n"
     ]
    }
   ],
   "source": [
    "newx=pagerank(alpha,mymtx.toarray(),newx,E)"
   ]
  },
  {
   "cell_type": "code",
   "execution_count": null,
   "metadata": {
    "collapsed": true,
    "deletable": true,
    "editable": true
   },
   "outputs": [],
   "source": []
  }
 ],
 "metadata": {
  "kernelspec": {
   "display_name": "Python 2",
   "language": "python",
   "name": "python2"
  },
  "language_info": {
   "codemirror_mode": {
    "name": "ipython",
    "version": 2
   },
   "file_extension": ".py",
   "mimetype": "text/x-python",
   "name": "python",
   "nbconvert_exporter": "python",
   "pygments_lexer": "ipython2",
   "version": "2.7.12"
  }
 },
 "nbformat": 4,
 "nbformat_minor": 2
}
